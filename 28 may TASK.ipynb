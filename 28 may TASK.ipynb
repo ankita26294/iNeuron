{
 "cells": [
  {
   "cell_type": "code",
   "execution_count": null,
   "metadata": {},
   "outputs": [],
   "source": [
    "n = 4\n",
    "for i in (range(4)):\n",
    "    for j in range(0,i+1):\n",
    "        print(\"ineuron\",end=\"  \")\n",
    "    print(\"\\n\")"
   ]
  },
  {
   "cell_type": "code",
   "execution_count": 3,
   "metadata": {},
   "outputs": [],
   "source": [
    "l = [[1,2,3,4],(2,3,4,5,6),(3,4,5,6,7),set([23,4,5,45,4,4,5,45,45,4,5]),{'k1':\"sudh\",'k2':\"ineuron\",'k3':\"kumar\",3:6,7:8},\n",
    "    [\"ineuron\",\"data science\"]]"
   ]
  },
  {
   "cell_type": "code",
   "execution_count": 4,
   "metadata": {},
   "outputs": [
    {
     "name": "stdout",
     "output_type": "stream",
     "text": [
      "[1, 2, 3, 4]\n",
      "['ineuron', 'data science']\n"
     ]
    }
   ],
   "source": [
    "#q3:Try to extract all the list entity\n",
    "for i in l:\n",
    "    if type(i) == list:\n",
    "            print(i)"
   ]
  },
  {
   "cell_type": "code",
   "execution_count": 5,
   "metadata": {},
   "outputs": [
    {
     "name": "stdout",
     "output_type": "stream",
     "text": [
      "{'k1': 'sudh', 'k2': 'ineuron', 'k3': 'kumar', 3: 6, 7: 8}\n"
     ]
    }
   ],
   "source": [
    "#q4:Try to extract all dict entities\n",
    "for i in l :\n",
    "    if type(i) == dict:\n",
    "        print(i)\n"
   ]
  },
  {
   "cell_type": "code",
   "execution_count": 6,
   "metadata": {},
   "outputs": [
    {
     "name": "stdout",
     "output_type": "stream",
     "text": [
      "(2, 3, 4, 5, 6)\n",
      "(3, 4, 5, 6, 7)\n"
     ]
    }
   ],
   "source": [
    "#q5:Try to extract all tuples entities\n",
    "for i in l :\n",
    "    if type(i) == tuple:\n",
    "        print(i)\n"
   ]
  },
  {
   "cell_type": "code",
   "execution_count": 7,
   "metadata": {},
   "outputs": [
    {
     "name": "stdout",
     "output_type": "stream",
     "text": [
      "1\n",
      "3\n",
      "6\n",
      "10\n",
      "12\n",
      "15\n",
      "19\n",
      "24\n",
      "30\n",
      "33\n",
      "37\n",
      "42\n",
      "48\n",
      "55\n",
      "100\n",
      "104\n",
      "109\n",
      "132\n",
      "135\n",
      "142\n",
      "148\n",
      "156\n"
     ]
    }
   ],
   "source": [
    "#q6.Try to give summation of all numeric data \n",
    "sum = 0\n",
    "for i in l:\n",
    "    if type(i) == int:\n",
    "        sum = sum+i\n",
    "        print(sum)\n",
    "    elif type(i) == list:\n",
    "        for j in i:\n",
    "            if type(j)== int:\n",
    "                sum = sum+j\n",
    "                print(sum)\n",
    "    elif type(i) == tuple:\n",
    "        for j in i:\n",
    "            if type(j)== int:\n",
    "                sum = sum+j\n",
    "                print(sum)\n",
    "    elif type(i)== set:\n",
    "        for j in i:\n",
    "            if type(j)== int:\n",
    "                sum = sum+j\n",
    "                print(sum)\n",
    "    elif type(i) == dict:\n",
    "        for j in i.keys():\n",
    "            if type(j)== int:\n",
    "                sum = sum+j\n",
    "                print(sum)\n",
    "        for k in i.values():\n",
    "            if type(k)== int:\n",
    "                sum = sum+k\n",
    "                print(sum)       "
   ]
  },
  {
   "cell_type": "code",
   "execution_count": 8,
   "metadata": {},
   "outputs": [
    {
     "name": "stdout",
     "output_type": "stream",
     "text": [
      "1\n",
      "3\n",
      "3\n",
      "5\n",
      "3\n",
      "5\n",
      "7\n",
      "45\n",
      "5\n",
      "23\n",
      "3\n",
      "7\n"
     ]
    }
   ],
   "source": [
    "#q8.Try to filter out all odd values \n",
    "for i in l:\n",
    "    if type(i) == int and (i%2)==1:\n",
    "        print(i)\n",
    "    elif type(i) == list:\n",
    "        for j in i:\n",
    "            if type(j)== int and (j%2)==1:\n",
    "                print(j)\n",
    "    elif type(i) == tuple:\n",
    "        for j in i:\n",
    "            if type(j)== int and (j%2)==1:\n",
    "                print(j)\n",
    "    elif type(i)== set:\n",
    "        for j in i:\n",
    "            if type(j)== int and (j%2)==1:\n",
    "                print(j)\n",
    "    elif type(i) == dict:\n",
    "        for j in i.keys():\n",
    "            if type(j)== int and (j%2)==1:\n",
    "                print(j)\n",
    "        for k in i.values():\n",
    "            if type(k)== int and (k%2)==1:\n",
    "                print(k)"
   ]
  },
  {
   "cell_type": "code",
   "execution_count": 12,
   "metadata": {},
   "outputs": [
    {
     "data": {
      "text/plain": [
       "[['ineuron', 'data science']]"
      ]
     },
     "execution_count": 12,
     "metadata": {},
     "output_type": "execute_result"
    }
   ],
   "source": [
    "#try to extract ineuron out of this data\n",
    "l[5:6]"
   ]
  },
  {
   "cell_type": "code",
   "execution_count": 16,
   "metadata": {},
   "outputs": [],
   "source": [
    "#q.10 Try to find out all number of occurance of all data\n",
    "listAll = []\n",
    "for i in l:\n",
    "    if type(i) == (str or int) :\n",
    "        listAll.append(i)\n",
    "        print(i)\n",
    "    elif type(i) == list:\n",
    "        for j in i:\n",
    "            listAll.append(j)\n",
    "    elif type(i) == tuple:\n",
    "        for j in i:\n",
    "            listAll.append(j)\n",
    "    elif type(i)== set:\n",
    "        for j in i:\n",
    "            listAll.append(j)\n",
    "    elif type(i) == dict:\n",
    "        for j in i.keys():\n",
    "            listAll.append(j)\n",
    "        for k in i.values():\n",
    "            listAll.append(k)\n"
   ]
  },
  {
   "cell_type": "code",
   "execution_count": 18,
   "metadata": {},
   "outputs": [
    {
     "name": "stdout",
     "output_type": "stream",
     "text": [
      "[1, 2, 3, 4, 2, 3, 4, 5, 6, 3, 4, 5, 6, 7, 45, 4, 5, 23, 'k1', 'k2', 'k3', 3, 7, 'sudh', 'ineuron', 'kumar', 6, 8, 'ineuron', 'data science']\n"
     ]
    }
   ],
   "source": [
    "print(listAll)"
   ]
  },
  {
   "cell_type": "code",
   "execution_count": 19,
   "metadata": {},
   "outputs": [
    {
     "data": {
      "text/plain": [
       "{1,\n",
       " 2,\n",
       " 23,\n",
       " 3,\n",
       " 4,\n",
       " 45,\n",
       " 5,\n",
       " 6,\n",
       " 7,\n",
       " 8,\n",
       " 'data science',\n",
       " 'ineuron',\n",
       " 'k1',\n",
       " 'k2',\n",
       " 'k3',\n",
       " 'kumar',\n",
       " 'sudh'}"
      ]
     },
     "execution_count": 19,
     "metadata": {},
     "output_type": "execute_result"
    }
   ],
   "source": [
    "testSet =set(listAll)\n",
    "testSet"
   ]
  },
  {
   "cell_type": "code",
   "execution_count": 20,
   "metadata": {},
   "outputs": [
    {
     "name": "stdout",
     "output_type": "stream",
     "text": [
      "1 1\n",
      "2 2\n",
      "3 4\n",
      "4 4\n",
      "5 3\n",
      "6 3\n",
      "7 2\n",
      "ineuron 2\n",
      "k3 1\n",
      "8 1\n",
      "45 1\n",
      "k2 1\n",
      "kumar 1\n",
      "23 1\n",
      "k1 1\n",
      "data science 1\n",
      "sudh 1\n"
     ]
    }
   ],
   "source": [
    "for i in testSet:\n",
    "    print(i,listAll.count(i))\n",
    "    "
   ]
  },
  {
   "cell_type": "code",
   "execution_count": null,
   "metadata": {},
   "outputs": [],
   "source": []
  }
 ],
 "metadata": {
  "kernelspec": {
   "display_name": "Python 3",
   "language": "python",
   "name": "python3"
  },
  "language_info": {
   "codemirror_mode": {
    "name": "ipython",
    "version": 3
   },
   "file_extension": ".py",
   "mimetype": "text/x-python",
   "name": "python",
   "nbconvert_exporter": "python",
   "pygments_lexer": "ipython3",
   "version": "3.7.4"
  }
 },
 "nbformat": 4,
 "nbformat_minor": 2
}
