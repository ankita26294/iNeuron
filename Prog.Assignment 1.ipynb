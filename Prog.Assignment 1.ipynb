{
 "cells": [
  {
   "cell_type": "code",
   "execution_count": null,
   "metadata": {},
   "outputs": [],
   "source": [
    "1. Write a Python program to print &quot;Hello Python&quot;?\n",
    "2. Write a Python program to do arithmetical operations addition and division.?\n",
    "3. Write a Python program to find the area of a triangle?\n",
    "4. Write a Python program to swap two variables?\n",
    "5. Write a Python program to generate a random number?"
   ]
  },
  {
   "cell_type": "code",
   "execution_count": 1,
   "metadata": {},
   "outputs": [
    {
     "name": "stdout",
     "output_type": "stream",
     "text": [
      "hello Python\n"
     ]
    }
   ],
   "source": [
    "#1.\n",
    "s = \"hello Python\"\n",
    "print(s)"
   ]
  },
  {
   "cell_type": "code",
   "execution_count": 2,
   "metadata": {},
   "outputs": [
    {
     "name": "stdout",
     "output_type": "stream",
     "text": [
      "2\n",
      "2\n",
      "4\n",
      "1.0\n"
     ]
    }
   ],
   "source": [
    "#2.\n",
    "a=int(input())\n",
    "b=int(input())\n",
    "print(a+b)\n",
    "print(a/b)"
   ]
  },
  {
   "cell_type": "code",
   "execution_count": 3,
   "metadata": {},
   "outputs": [
    {
     "name": "stdout",
     "output_type": "stream",
     "text": [
      "enter base value2\n",
      "enter height value3\n",
      "3.0\n"
     ]
    }
   ],
   "source": [
    "#3.Write a Python program to find the area of a triangle?\n",
    "a=float(input(\"enter base value\"))\n",
    "b=float(input(\"enter height value\"))\n",
    "area=(a*b)/2\n",
    "print(area)"
   ]
  },
  {
   "cell_type": "code",
   "execution_count": 4,
   "metadata": {},
   "outputs": [
    {
     "name": "stdout",
     "output_type": "stream",
     "text": [
      "enter a value of a2\n",
      "enter a value of b3\n",
      "value of a after swaping: 3\n",
      "value of b after swaping: 2\n"
     ]
    }
   ],
   "source": [
    "# 4. Write a Python program to swap two variables?\n",
    "a=int(input(\"enter a value of a\"))\n",
    "b=int(input(\"enter a value of b\"))\n",
    "temp_1=a\n",
    "a=b\n",
    "b=temp_1\n",
    "print(\"value of a after swaping:\",a)\n",
    "print(\"value of b after swaping:\",b)"
   ]
  },
  {
   "cell_type": "code",
   "execution_count": 9,
   "metadata": {},
   "outputs": [
    {
     "data": {
      "text/plain": [
       "0.2637743872351911"
      ]
     },
     "execution_count": 9,
     "metadata": {},
     "output_type": "execute_result"
    }
   ],
   "source": [
    "# 5. Write a Python program to generate a random number?\n",
    "import random\n",
    "\n",
    "random.random()\n"
   ]
  },
  {
   "cell_type": "code",
   "execution_count": null,
   "metadata": {},
   "outputs": [],
   "source": []
  },
  {
   "cell_type": "code",
   "execution_count": null,
   "metadata": {},
   "outputs": [],
   "source": []
  },
  {
   "cell_type": "code",
   "execution_count": null,
   "metadata": {},
   "outputs": [],
   "source": []
  },
  {
   "cell_type": "code",
   "execution_count": null,
   "metadata": {},
   "outputs": [],
   "source": []
  }
 ],
 "metadata": {
  "kernelspec": {
   "display_name": "Python 3",
   "language": "python",
   "name": "python3"
  },
  "language_info": {
   "codemirror_mode": {
    "name": "ipython",
    "version": 3
   },
   "file_extension": ".py",
   "mimetype": "text/x-python",
   "name": "python",
   "nbconvert_exporter": "python",
   "pygments_lexer": "ipython3",
   "version": "3.7.4"
  }
 },
 "nbformat": 4,
 "nbformat_minor": 2
}
