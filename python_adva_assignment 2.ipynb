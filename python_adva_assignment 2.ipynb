{
 "cells": [
  {
   "cell_type": "raw",
   "id": "e8bd68f9",
   "metadata": {},
   "source": [
    "Q1. What is the relationship between classes and modules?\n",
    ":->: A Python class is like an outline/blueprint/mold for creating a new object. An object is anything that we wish to manipulate or change while working through the code. Every time a class object is instantiated, which is when we declare a variable, a new object is initiated from scratch.\n",
    "\n",
    "Whereas in Python, Modules are simply files with the . py extension containing Python code that can be imported inside another Python Program. In simple terms, we can consider a module to be the same as a code library or a file that contains a set of functions/Classes that we want to include in your application."
   ]
  },
  {
   "cell_type": "raw",
   "id": "ee396a62",
   "metadata": {},
   "source": [
    "Q2. How do you make instances and classes?\n",
    ":->Ans: For creating a class instance. we call a class by its name and pass the arguments which its __init__ method accepts.\n",
    "\n"
   ]
  },
  {
   "cell_type": "markdown",
   "id": "fc8c2595",
   "metadata": {},
   "source": [
    "Q3. Where and how should be class attributes created?\n",
    ":->Ans: Class attributes or Class level Attributes belong to the class itself. these attributes will be shared by all the instances of the class. Hence these attributes are usually created/defined in the top of class definiation outside all methods.\n",
    "\n"
   ]
  },
  {
   "cell_type": "raw",
   "id": "9038d221",
   "metadata": {},
   "source": [
    "Q4. Where and how are instance attributes created?\n",
    ":->Ans: Instances attributes are passed to the class when an object of the class is created. Unlike class attributes, instance attributes are not shared by all objects of the classs. Instead each object maintains its own copy of instance attributes at object level whereas incase of class attributes, all instances of class refer to a single copy. Usually instance attributes are defined within the __init__ method of class.\n",
    "\n"
   ]
  },
  {
   "cell_type": "raw",
   "id": "316d7d7d",
   "metadata": {},
   "source": [
    "Q5. What does the term &quot;self&quot; in a Python class mean?\n",
    ":->self represents the instance of the class (it represents the object itself). By using the “self” keyword we can access the attributes and methods of the class with in the class in python. It binds the attributes with the given arguments."
   ]
  },
  {
   "cell_type": "raw",
   "id": "475c98c1",
   "metadata": {},
   "source": [
    "Q6. How does a Python class handle operator overloading?\n",
    ":->Python Classes handle operator overloading by using special methods called Magic methods. These special methods usually begin and end with __ (double underscore)\n",
    "Example: Magic methods for basic arithmetic operators are:\n",
    "\n",
    "+ -> __add__()\n",
    "- -> __sub__()\n",
    "* -> __mul__()\n",
    "/ -> __div__()\n"
   ]
  },
  {
   "cell_type": "raw",
   "id": "06be89ac",
   "metadata": {},
   "source": [
    "Q7. When do you consider allowing operator overloading of your classes?\n",
    ":->Ans: We consider allowing operator overloading when we want to have different meaning for the same operator. For example operator + is used to add two integers as well as join two strings and merge two lists. It is achievable because ‘+’ operator is overloaded by int class and str class.\n",
    "\n",
    "\n"
   ]
  },
  {
   "cell_type": "raw",
   "id": "fc9f4600",
   "metadata": {},
   "source": [
    "Q8. What is the most popular form of operator overloading?\n",
    ":->Ans: The most popular form of operator overloading in python is by special methods called Magic methods. It usually begins and ends with double underscore __<method name>__.\n",
    "\n"
   ]
  },
  {
   "cell_type": "code",
   "execution_count": null,
   "id": "49d9523b",
   "metadata": {},
   "outputs": [],
   "source": [
    "Q9. What are the two most important concepts to grasp in order to comprehend Python OOP code?\n",
    ":->"
   ]
  }
 ],
 "metadata": {
  "kernelspec": {
   "display_name": "Python 3 (ipykernel)",
   "language": "python",
   "name": "python3"
  },
  "language_info": {
   "codemirror_mode": {
    "name": "ipython",
    "version": 3
   },
   "file_extension": ".py",
   "mimetype": "text/x-python",
   "name": "python",
   "nbconvert_exporter": "python",
   "pygments_lexer": "ipython3",
   "version": "3.9.13"
  }
 },
 "nbformat": 4,
 "nbformat_minor": 5
}
