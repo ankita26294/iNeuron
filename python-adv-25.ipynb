{
 "cells": [
  {
   "cell_type": "markdown",
   "id": "62fe1a3c",
   "metadata": {},
   "source": [
    "## Q1. What is the distinction between a numpy array and a pandas data frame? Is there a way to\n",
    "convert between the two if there is?\n",
    "Numpy Ndarray provides a lot of convenient and optimized methods for performing several mathematical operations on vectors.\n",
    "\n",
    "Pandas Dataframe is an in-memory 2-dimensional tabular representation of data. In simpler words, it can be seen as a spreadsheet having rows and columns.\n",
    "\n",
    "Conversion : Dataframe=pandas.DataFrame(array)"
   ]
  },
  {
   "cell_type": "markdown",
   "id": "24147570",
   "metadata": {},
   "source": [
    "## Q2. What can go wrong when an user enters in a stock-ticker symbol, and how do you handle it\n",
    "Bar chart, Line Chart, Candlestick chart (using mplfinance module) are used for plotting stock market chart."
   ]
  },
  {
   "cell_type": "markdown",
   "id": "2e389fd9",
   "metadata": {},
   "source": [
    "## Q3. Identify some of the plotting techniques that are used to produce a stock-market char\n",
    "Legend will help us in comparing different stocks in a stock market chart. Each plot of a Stock chart has a legend, its items representing the series on the plot. In addition, the legend displays information about the points that are currently hovered over or, if none are hovered over, about the last points shown on the plot. The text of a legend item includes the name of a series and, depending on the series type, the value or values of the current or last point. The legend title, enabled by default, shows the current or last date (X-value)."
   ]
  },
  {
   "cell_type": "markdown",
   "id": "2e05a913",
   "metadata": {},
   "source": [
    "## Q4. Why is it essential to print a legend on a stock market chart?\n",
    " We can use start and end parameters for that. In start, we write the date from where we are starting and at the end, we write the end date. SO within this span we can restrict the duration. Also, we can use the parameters like periods i.e for how much times we need the duration and we can also use the frequency parameter for that."
   ]
  },
  {
   "cell_type": "markdown",
   "id": "90d03113",
   "metadata": {},
   "source": [
    "## Q5. What is the best way to limit the length of a pandas data frame to less than a year?\n",
    " The 180-day moving average is represented as a line on charts and represents the average price over the past 180 days. The moving average can give traders a sense regarding whether the trend is up or down, while also identifying potential support or resistance areas. A moving average (MA) is a stock indicator that is commonly used in technical analysis. The reason for calculating the moving average of a stock is to help smooth out the price data over a specified period of time by creating a constantly updated average price. A simple moving average (SMA) is a calculation that takes the arithmetic mean of a given set of prices over the specific number of days in the past; for example, in this case over 180 days.\n"
   ]
  },
  {
   "cell_type": "code",
   "execution_count": null,
   "id": "18bec5c2",
   "metadata": {},
   "outputs": [],
   "source": []
  }
 ],
 "metadata": {
  "kernelspec": {
   "display_name": "Python 3 (ipykernel)",
   "language": "python",
   "name": "python3"
  },
  "language_info": {
   "codemirror_mode": {
    "name": "ipython",
    "version": 3
   },
   "file_extension": ".py",
   "mimetype": "text/x-python",
   "name": "python",
   "nbconvert_exporter": "python",
   "pygments_lexer": "ipython3",
   "version": "3.9.13"
  }
 },
 "nbformat": 4,
 "nbformat_minor": 5
}
