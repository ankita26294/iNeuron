{
 "cells": [
  {
   "cell_type": "code",
   "execution_count": 1,
   "metadata": {},
   "outputs": [
    {
     "name": "stdout",
     "output_type": "stream",
     "text": [
      "Object `Recursion` not found.\n",
      "Object `Recursion` not found.\n",
      "Object `Index` not found.\n",
      "Object `number` not found.\n",
      "Object `numbers` not found.\n"
     ]
    }
   ],
   "source": [
    "1. Write a Python Program to Display Fibonacci Sequence Using Recursion?\n",
    "2. Write a Python Program to Find Factorial of Number Using Recursion?\n",
    "3. Write a Python Program to calculate your Body Mass Index?\n",
    "4. Write a Python Program to calculate the natural logarithm of any number?\n",
    "5. Write a Python Program for cube sum of first n natural numbers?"
   ]
  },
  {
   "cell_type": "code",
   "execution_count": 31,
   "metadata": {},
   "outputs": [
    {
     "name": "stdout",
     "output_type": "stream",
     "text": [
      "5\n"
     ]
    },
    {
     "data": {
      "text/plain": [
       "[0, 1, 1, 2, 3]"
      ]
     },
     "execution_count": 31,
     "metadata": {},
     "output_type": "execute_result"
    }
   ],
   "source": [
    "# 1\n",
    "N=int(input())\n",
    "\n",
    "def fibonacci(N):\n",
    "    if N == 0:\n",
    "        return (0)\n",
    "\n",
    "    elif N == 1:\n",
    "        return (1)\n",
    "    else:    \n",
    "        return (fibonacci(N - 1) + fibonacci(N - 2))\n",
    "        \n",
    "#     return series\n",
    "series =[]\n",
    "for i in range(0,N):\n",
    "    series.append(fibonacci(i))\n",
    "#         print (fibonacci(i))\n",
    "\n",
    "series"
   ]
  },
  {
   "cell_type": "code",
   "execution_count": 5,
   "metadata": {},
   "outputs": [
    {
     "name": "stdout",
     "output_type": "stream",
     "text": [
      "50\n",
      "30414093201713378043612608166064768844377641568960512000000000000\n"
     ]
    }
   ],
   "source": [
    "# 2.\n",
    "n=int(input())\n",
    "def factorial(n):\n",
    "    if (n==1 or n==0):\n",
    "        return 1\n",
    "\n",
    "    else:\n",
    "        return (n*factorial(n-1))\n",
    "\n",
    "print(factorial(n))\n"
   ]
  },
  {
   "cell_type": "code",
   "execution_count": 33,
   "metadata": {},
   "outputs": [
    {
     "name": "stdout",
     "output_type": "stream",
     "text": [
      "55\n",
      "155\n",
      "0.3548387096774194\n"
     ]
    }
   ],
   "source": [
    "# 3.\n",
    "WEIGHT=int(input())\n",
    "HEIGHT=int(input())\n",
    "BMI = (WEIGHT)/(HEIGHT)\n",
    "print(BMI)"
   ]
  },
  {
   "cell_type": "code",
   "execution_count": 35,
   "metadata": {},
   "outputs": [
    {
     "name": "stdout",
     "output_type": "stream",
     "text": [
      "2\n",
      "9\n"
     ]
    }
   ],
   "source": [
    "# 5.\n",
    "n=int(input())\n",
    "def sumofcube(n):\n",
    "    sum = 0\n",
    "    for i in range(1,n+1):\n",
    "        sum +=i*i*i\n",
    "    return sum\n",
    "print(sumofcube(n))    "
   ]
  },
  {
   "cell_type": "code",
   "execution_count": null,
   "metadata": {},
   "outputs": [],
   "source": []
  }
 ],
 "metadata": {
  "kernelspec": {
   "display_name": "Python 3",
   "language": "python",
   "name": "python3"
  },
  "language_info": {
   "codemirror_mode": {
    "name": "ipython",
    "version": 3
   },
   "file_extension": ".py",
   "mimetype": "text/x-python",
   "name": "python",
   "nbconvert_exporter": "python",
   "pygments_lexer": "ipython3",
   "version": "3.7.4"
  }
 },
 "nbformat": 4,
 "nbformat_minor": 2
}
