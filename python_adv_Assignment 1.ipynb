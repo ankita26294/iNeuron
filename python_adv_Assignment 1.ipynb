{
 "cells": [
  {
   "cell_type": "raw",
   "id": "e992ae51",
   "metadata": {},
   "source": [
    "Q1. What is the purpose of Python OOP?\n",
    ":-> Object-oriented programming is a programming paradigm that provides a means of structuring programs so that properties and behaviors are bundled into individual objects\n",
    "\n",
    "In Python, object-oriented Programming (OOPs) uses objects and classes in programming.\n",
    "It aims to implement real-world entities like inheritance, polymorphisms, encapsulation, etc. in the programming.\n",
    "The main concept of OOPs is to bind the data and the functions that work on that together as a single unit so that no other part of the code can access this data.\n",
    "Some Advantages are mentioned below:\n",
    "\n",
    "It helps to divide our over all program into different small segments and thus making problem solving easy through the use of objects\n",
    "Helps in easy maintenance and modification of existing program\n",
    "Multiple instances of an object can be made and explored.\n"
   ]
  },
  {
   "cell_type": "raw",
   "id": "3db7ff83",
   "metadata": {},
   "source": [
    "Q2. Where does an inheritance search look for an attribute?\n",
    ":->Python searches for an attribute in an upward tree of attributes. Tt first searches for the attribute in its instance and then looks in the class it is generated from, to all super classes listed in its class header\n",
    "\n"
   ]
  },
  {
   "cell_type": "raw",
   "id": "19658994",
   "metadata": {},
   "source": [
    "Q3. How do you distinguish between a class object and an instance object?\n",
    ":->The differences between a class object and an instance object are:\n",
    "\n",
    "Class is a template for creating objects whereas object is an instance of class\n",
    "Seperate memory is allocated for each object whenever an object is created. but for a class this doesnot happens.\n",
    "A Class is created once. Many objects are created using a class.\n",
    "As Classes have no allocated memory. they can't be manipulated. but objects can be manipulated.\n"
   ]
  },
  {
   "cell_type": "raw",
   "id": "e9fd6e19",
   "metadata": {},
   "source": [
    "Q4. What makes the first argument in a class’s method function special?\n",
    ":->Python Classes usually have three types of methods which are:\n",
    "\n",
    "Instance Methods (object level methods)\n",
    "Class Methods (class level methods)\n",
    "Static Methods (general utility methods)\n",
    "self is the first argument for instance methods. which refers to the object itself\n",
    "cls is the first argument for class methods which refers to the class itself\n"
   ]
  },
  {
   "cell_type": "raw",
   "id": "0b0cae59",
   "metadata": {},
   "source": [
    "Q5. What is the purpose of the __init__ method?\n",
    ":->__init__ is a reseved method in python classes. It serves the role of a constructor in object oriented terminology. This method is called when an object is created from a class and it allows the class to initialize the attributes of the class"
   ]
  },
  {
   "cell_type": "raw",
   "id": "8e2b6e29",
   "metadata": {},
   "source": [
    "Q6. What is the process for creating a class instance?\n",
    ":->To create a class instance, we need to call the class by its name and pass the arguments to the class, which its init method accepts.\n",
    "\n",
    "\n"
   ]
  },
  {
   "cell_type": "code",
   "execution_count": null,
   "id": "fa83720f",
   "metadata": {},
   "outputs": [],
   "source": [
    "Q7. What is the process for creating a class?\n"
   ]
  },
  {
   "cell_type": "code",
   "execution_count": null,
   "id": "e9215c2a",
   "metadata": {},
   "outputs": [],
   "source": [
    "Q8. How would you define the superclasses of a class?"
   ]
  },
  {
   "cell_type": "code",
   "execution_count": null,
   "id": "38a05556",
   "metadata": {},
   "outputs": [],
   "source": []
  }
 ],
 "metadata": {
  "kernelspec": {
   "display_name": "Python 3 (ipykernel)",
   "language": "python",
   "name": "python3"
  },
  "language_info": {
   "codemirror_mode": {
    "name": "ipython",
    "version": 3
   },
   "file_extension": ".py",
   "mimetype": "text/x-python",
   "name": "python",
   "nbconvert_exporter": "python",
   "pygments_lexer": "ipython3",
   "version": "3.9.13"
  }
 },
 "nbformat": 4,
 "nbformat_minor": 5
}
